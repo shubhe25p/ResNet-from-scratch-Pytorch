{
  "nbformat": 4,
  "nbformat_minor": 0,
  "metadata": {
    "colab": {
      "name": "Resnet-50.ipynb",
      "provenance": [],
      "authorship_tag": "ABX9TyOvJRWy4zj9VZ19l2xsyQGc",
      "include_colab_link": true
    },
    "kernelspec": {
      "name": "python3",
      "display_name": "Python 3"
    },
    "language_info": {
      "name": "python"
    }
  },
  "cells": [
    {
      "cell_type": "markdown",
      "metadata": {
        "id": "view-in-github",
        "colab_type": "text"
      },
      "source": [
        "<a href=\"https://colab.research.google.com/github/shubhe25p/ResNet-from-scratch-Pytorch/blob/test/Resnet_50.ipynb\" target=\"_parent\"><img src=\"https://colab.research.google.com/assets/colab-badge.svg\" alt=\"Open In Colab\"/></a>"
      ]
    },
    {
      "cell_type": "code",
      "metadata": {
        "id": "5jF2f0XC3YZX"
      },
      "source": [
        "import torch \n",
        "from torch.nn import Linear, Conv2d, functional as F, Module, MaxPool2d, Sequential\n",
        "from torch.optim import Adam, SGD"
      ],
      "execution_count": 1,
      "outputs": []
    },
    {
      "cell_type": "code",
      "metadata": {
        "id": "V65p9fWkoRvT"
      },
      "source": [
        "data=???\n"
      ],
      "execution_count": null,
      "outputs": []
    },
    {
      "cell_type": "code",
      "metadata": {
        "id": "kBKlEzghCUmV"
      },
      "source": [
        "F1, F2, F3  = filters\n",
        "f = filter_shape\n",
        "id_block = Sequential(\n",
        "      \n",
        "      X_short = X\n",
        "      Conv2d(3, F1, kernel_size=1, stride=1, padding=0),\n",
        "      BatchNorm2d(F1),\n",
        "      ReLU(inplace=True),\n",
        "\n",
        "      Conv2d(F1, F2, kernel_size=(f,f), stride=1, padding=0.5*(f - 1))\n",
        "      BatchNorm2d(F2)\n",
        "      ReLU(inplace=True)\n",
        "\n",
        "      Conv2d(F2, F3, kernel_size=1, stride=1, padding=0)\n",
        "      BatchNorm2d(F3)\n",
        "\n",
        "      #add for pytorch\n",
        "      Add()(X + X_short)\n",
        "      ReLU(inplace=True)\n",
        "\n",
        ")\n",
        "\n",
        "\n"
      ],
      "execution_count": null,
      "outputs": []
    },
    {
      "cell_type": "code",
      "metadata": {
        "id": "_BmWAWv8fZPN"
      },
      "source": [
        "\n",
        "\n",
        "conv_block  = Sequential(\n",
        "    \n",
        "    X_short = X\n",
        "    Conv2d(3, F1, kernel_size=1, stride=(s,s), padding=0)  \n",
        "    BatchNorm2d(F1)\n",
        "    ReLU(inplace=True)\n",
        "\n",
        "    Conv2d(F1, F2, kernel_size=(f,f), stride=1, padding=0.5*(f-1))\n",
        "    BatchNorm2d(F2)\n",
        "    ReLU(inplace=True)\n",
        "\n",
        "    Conv2d(F2, F3, kernel_size=(1,1), stride=1, padding=0)\n",
        "    BatchNorm2d(F3)\n",
        "\n",
        "    #Pytorch for X_short ???\n",
        "    Conv2d(3, F3, kernel_size=1, stride=(s,s), padding=0)\n",
        "    BatchNorm2d(F3)\n",
        "\n",
        "    #Pytorch For Add\n",
        "    Add(X_short + X)\n",
        "    ReLU(inplace=True)\n",
        "\n",
        ")"
      ],
      "execution_count": null,
      "outputs": []
    },
    {
      "cell_type": "code",
      "metadata": {
        "id": "z_vz8mAo5XaY"
      },
      "source": [
        "class Resnet50(Module):\n",
        "\n",
        "  def __init__(self, f):\n",
        "    super(Resnet50, self).__init__()\n",
        "\n",
        "    self.id_block = Sequential(\n",
        "        Conv2d()\n",
        "    )\n",
        "    self.conv_block = Sequential()\n",
        "\n",
        "  def forward():\n",
        "\n",
        "    x = self.pad(x,3)\n",
        "    #Stage1\n",
        "    x = Conv2d(3, 64, kernel_size=7, stride=2)(x)\n",
        "    x = BatchNorm(64)(x)\n",
        "    x = MaxPool2d(kernel_size = 3, stride = 2)(x)\n",
        "    #Stage2\n",
        "    x = conv_block(filters = (128,128,512), f=3, s=1)(x)\n",
        "    x = id_block(filters = (64,64,256), f=3)(x)\n",
        "    x = id_block(filters = (64,64,256), f=3)(x)\n",
        "    #Stage3\n",
        "    x = conv_block(filters = (128,128,512), f=3, s=2)(x)\n",
        "    x = id_block(filters = (128,128,512), f=3)(x)\n",
        "    x = id_block(filters = (128,128,512), f=3)(x)\n",
        "    x = id_block(filters = (128,128,512), f=3)(x)\n",
        "    #Stage4\n",
        "    x = conv_block(filters = (256,256,1024), f=3, s=2)(x)\n",
        "    x = conv_block(filters = (256,256,1024), f=3, s=2)(x)\n",
        "    x = conv_block(filters = (256,256,1024), f=3, s=2)(x)\n",
        "    x = id_block(filters = (256,256,1024), f=3)(x)\n",
        "    x = id_block(filters = (256,256,1024), f=3)(x)\n",
        "    x = id_block(filters = (256,256,1024), f=3)(x)\n",
        "    x = id_block(filters = (256,256,1024), f=3)(x)\n",
        "    x = id_block(filters = (256,256,1024), f=3)(x)\n",
        "    #Stage5\n",
        "    x = conv_block(filters = (512,512,2048), f=3, s=2)(x)\n",
        "    x = conv_block(filters = (512,512,2048), f=3, s=2)(x)\n",
        "    x = conv_block(filters = (512,512,2048), f=3, s=2)(x)\n",
        "    x = id_block(filters = (512,512,2048), f=3)(x)\n",
        "    x = id_block(filters = (512,512,2048), f=3)(x)\n",
        "\n",
        "    x = AveragePool2d(kernel_size = 2)(x)\n",
        "    x = x.view(x.size(0), -1)\n",
        "    #pytoch implement\n",
        "    x = SoftMax(x)\n",
        "\n",
        "    return x"
      ],
      "execution_count": null,
      "outputs": []
    },
    {
      "cell_type": "code",
      "metadata": {
        "id": "LKGwK-TjmGGY"
      },
      "source": [
        "model = ResNet50(input_size)\n",
        "optimizer = Adam(model.parameters(), lr=0.003)\n",
        "criterion = CrossEntropyLoss()\n",
        "\n",
        "if torch.cuda.is_available():\n",
        "\n",
        "  model = model.cuda\n",
        "  criterion = criterion.cuda\n",
        "\n",
        "print(model)"
      ],
      "execution_count": null,
      "outputs": []
    },
    {
      "cell_type": "code",
      "metadata": {
        "id": "RIPrF4KZmmp5"
      },
      "source": [
        "def train(epoch):\n",
        "\n",
        "  model.train()\n",
        "  tr_loss = 0\n",
        "\n",
        "  for batch_idx, (data, targets) in enumerate(train_loader):\n",
        "\n",
        "    if train.cuda.is_available():\n",
        "\n",
        "      data = data.cuda()\n",
        "      targets = targets.cuda()\n",
        "\n",
        "      optimizers.zero_grad()\n",
        "\n",
        "      op_train = model(data)\n",
        "\n",
        "      loss_train = criterion(op_train, targets)\n",
        "      train_losses.append(loss_train)\n",
        "\n",
        "      loss_train.backward()\n",
        "      optimizer.step()\n",
        "\n",
        "  if epoch%2 == 0:\n",
        "    print(\"Epoch: \", epoch+1, \"loss: \", loss_train)"
      ],
      "execution_count": null,
      "outputs": []
    }
  ]
}